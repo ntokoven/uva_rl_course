{
 "cells": [
  {
   "cell_type": "code",
   "execution_count": 1,
   "metadata": {
    "deletable": false,
    "editable": false,
    "nbgrader": {
     "checksum": "8760cdd25838cc879d075523dab9826c",
     "grade": false,
     "grade_id": "cell-cf757d55465d34ec",
     "locked": true,
     "schema_version": 1,
     "solution": false
    }
   },
   "outputs": [],
   "source": [
    "import numpy as np\n",
    "import sys \n",
    "\n",
    "assert sys.version_info[:3] >= (3, 6, 0), \"Make sure you have Python 3.6 installed!\""
   ]
  },
  {
   "cell_type": "markdown",
   "metadata": {
    "deletable": false,
    "editable": false,
    "nbgrader": {
     "checksum": "bc71571fb1b042fcb83b2a8bc94dfdea",
     "grade": false,
     "grade_id": "cell-33c0d426515d5c1b",
     "locked": true,
     "schema_version": 1,
     "solution": false
    }
   },
   "source": [
    "## Baird's Counterexample\n",
    "Baird's counterexample is described in Section 11.2 of the book. For your convenience, we have implemented it below."
   ]
  },
  {
   "cell_type": "code",
   "execution_count": 2,
   "metadata": {
    "deletable": false,
    "editable": false,
    "nbgrader": {
     "checksum": "e4f9852d4a96736abbb3f4918d1adc70",
     "grade": false,
     "grade_id": "cell-44280a71d447cc9b",
     "locked": true,
     "schema_version": 1,
     "solution": false
    }
   },
   "outputs": [],
   "source": [
    "class BairdsCounterExample:                                                                      \n",
    "    def __init__(self):\n",
    "        self.n_states = 7\n",
    "    \n",
    "    def reset(self):\n",
    "        self.current = np.random.choice(np.arange(0, 6))\n",
    "        return self.current \n",
    "    \n",
    "    def step(self, action):\n",
    "        if action == 1:\n",
    "            self.current = 7\n",
    "        elif action == 0:\n",
    "            self.current = np.random.choice(np.arange(0, 6))\n",
    "        done = False\n",
    "        return self.current, 0, done, \"\"    "
   ]
  },
  {
   "cell_type": "markdown",
   "metadata": {
    "deletable": false,
    "editable": false,
    "nbgrader": {
     "checksum": "94aef3d2f19cbae03d694efb6dcd9a88",
     "grade": false,
     "grade_id": "cell-b2ed50b8aa44833e",
     "locked": true,
     "schema_version": 1,
     "solution": false
    }
   },
   "source": [
    "## Semi-Gradient TD(0)\n",
    "Implement Semi-Gradient TD(0) (Equation 11.2 in the book) and plot the values of each weight. Use for your weight vector $w \\in \\mathbb{R}^8$, with the linear parameterization as given in Figure 11.1 of the book. Use a step size of $\\alpha=0.01$, a discount factor of $\\gamma=0.99$ and initialize the weights as $w=(1, 1, 1, 1, 1, 1, 10, 1)$ and run for 1000 steps."
   ]
  },
  {
   "cell_type": "code",
   "execution_count": null,
   "metadata": {},
   "outputs": [],
   "source": []
  }
 ],
 "metadata": {
  "kernelspec": {
   "display_name": "Python 3",
   "language": "python",
   "name": "python3"
  },
  "language_info": {
   "codemirror_mode": {
    "name": "ipython",
    "version": 3
   },
   "file_extension": ".py",
   "mimetype": "text/x-python",
   "name": "python",
   "nbconvert_exporter": "python",
   "pygments_lexer": "ipython3",
   "version": "3.7.3"
  }
 },
 "nbformat": 4,
 "nbformat_minor": 2
}
